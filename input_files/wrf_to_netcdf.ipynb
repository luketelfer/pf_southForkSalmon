{
 "cells": [
  {
   "cell_type": "code",
   "execution_count": 38,
   "id": "documentary-messaging",
   "metadata": {},
   "outputs": [],
   "source": [
    "from glob import glob\n",
    "import xarray as xr\n",
    "import numpy as np\n",
    "from parflowio.pyParflowio import PFData"
   ]
  },
  {
   "cell_type": "code",
   "execution_count": 39,
   "id": "double-porter",
   "metadata": {},
   "outputs": [],
   "source": [
    "def pfb_arr(fpath):\n",
    "    pfb = PFData(fpath)\n",
    "    pfb.loadHeader();\n",
    "    pfb.loadData();\n",
    "    arr = pfb.copyDataArray()\n",
    "    arr = arr.squeeze()\n",
    "    pfb.close()\n",
    "    return arr"
   ]
  },
  {
   "cell_type": "code",
   "execution_count": 40,
   "id": "seeing-casino",
   "metadata": {},
   "outputs": [],
   "source": [
    "def wrf_to_da(variable):\n",
    "    files = sorted(glob(f'wrf_forcings/WRF.{variable}.*.pfb'))\n",
    "    arr = np.reshape(np.array([pfb_arr(f) for f in files]),(8760,128,64))\n",
    "    da = xr.DataArray(arr,name=variable,dims=['t','y','x'])\n",
    "    return da"
   ]
  },
  {
   "cell_type": "code",
   "execution_count": 43,
   "id": "neutral-holocaust",
   "metadata": {},
   "outputs": [],
   "source": [
    "wrfvars = ['DSWR','DLWR','APCP','Temp','UGRD','VGRD','Press','SPFH']\n",
    "da_list = [wrf_to_da(v) for v in wrfvars]"
   ]
  },
  {
   "cell_type": "code",
   "execution_count": 49,
   "id": "sunrise-supply",
   "metadata": {},
   "outputs": [],
   "source": [
    "ds = xr.Dataset({\n",
    "    'shortwave':da_list[0],\n",
    "    'longwave':da_list[1],\n",
    "    'precip':da_list[2],\n",
    "    'temp':da_list[3],\n",
    "    'wind_ew':da_list[4],\n",
    "    'wind_ns':da_list[5],\n",
    "    'atm_press':da_list[6],\n",
    "    'sp_humid':da_list[7],\n",
    "})"
   ]
  },
  {
   "cell_type": "code",
   "execution_count": 50,
   "id": "broken-snake",
   "metadata": {},
   "outputs": [],
   "source": [
    "ds.to_netcdf('wrf.nc')"
   ]
  },
  {
   "cell_type": "code",
   "execution_count": 51,
   "id": "unexpected-colors",
   "metadata": {},
   "outputs": [],
   "source": [
    "test = xr.open_dataset('wrf.nc')"
   ]
  },
  {
   "cell_type": "code",
   "execution_count": null,
   "id": "anticipated-camcorder",
   "metadata": {},
   "outputs": [],
   "source": []
  }
 ],
 "metadata": {
  "kernelspec": {
   "display_name": "Python 3",
   "language": "python",
   "name": "python3"
  },
  "language_info": {
   "codemirror_mode": {
    "name": "ipython",
    "version": 3
   },
   "file_extension": ".py",
   "mimetype": "text/x-python",
   "name": "python",
   "nbconvert_exporter": "python",
   "pygments_lexer": "ipython3",
   "version": "3.7.7"
  }
 },
 "nbformat": 4,
 "nbformat_minor": 5
}
